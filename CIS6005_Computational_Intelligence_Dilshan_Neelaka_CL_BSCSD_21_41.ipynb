{
 "cells": [
  {
   "cell_type": "code",
   "execution_count": 1,
   "id": "e80f4e65",
   "metadata": {},
   "outputs": [],
   "source": [
    "import pandas as pd\n",
    "import numpy as np"
   ]
  },
  {
   "cell_type": "code",
   "execution_count": 2,
   "id": "1c9c717b",
   "metadata": {},
   "outputs": [],
   "source": [
    "cols=['Age' , 'Sex' , 'ChestPain' , 'RestingBloodPressure' , 'Cholesterol' , 'FastingBloodSugar' , 'RestEcg' , 'MaxHeartRateAch' , 'ExcersiseInducedAngina' , 'StDepression' , 'StSlope' , 'NumMajorVessels' , 'Thalassemia' , 'Target']"
   ]
  },
  {
   "cell_type": "code",
   "execution_count": 3,
   "id": "e831a3ac",
   "metadata": {},
   "outputs": [],
   "source": [
    "#load the dataset\n",
    "df = pd.read_csv('D:\\ICBT\\Assignments\\Computational Intelligence\\Dataset\\heart.csv', skiprows=[0], names=cols)"
   ]
  },
  {
   "cell_type": "code",
   "execution_count": 4,
   "id": "af3d866d",
   "metadata": {},
   "outputs": [
    {
     "data": {
      "text/html": [
       "<div>\n",
       "<style scoped>\n",
       "    .dataframe tbody tr th:only-of-type {\n",
       "        vertical-align: middle;\n",
       "    }\n",
       "\n",
       "    .dataframe tbody tr th {\n",
       "        vertical-align: top;\n",
       "    }\n",
       "\n",
       "    .dataframe thead th {\n",
       "        text-align: right;\n",
       "    }\n",
       "</style>\n",
       "<table border=\"1\" class=\"dataframe\">\n",
       "  <thead>\n",
       "    <tr style=\"text-align: right;\">\n",
       "      <th></th>\n",
       "      <th>Age</th>\n",
       "      <th>Sex</th>\n",
       "      <th>ChestPain</th>\n",
       "      <th>RestingBloodPressure</th>\n",
       "      <th>Cholesterol</th>\n",
       "      <th>FastingBloodSugar</th>\n",
       "      <th>RestEcg</th>\n",
       "      <th>MaxHeartRateAch</th>\n",
       "      <th>ExcersiseInducedAngina</th>\n",
       "      <th>StDepression</th>\n",
       "      <th>StSlope</th>\n",
       "      <th>NumMajorVessels</th>\n",
       "      <th>Thalassemia</th>\n",
       "      <th>Target</th>\n",
       "    </tr>\n",
       "  </thead>\n",
       "  <tbody>\n",
       "    <tr>\n",
       "      <th>0</th>\n",
       "      <td>63</td>\n",
       "      <td>1</td>\n",
       "      <td>3</td>\n",
       "      <td>145</td>\n",
       "      <td>233</td>\n",
       "      <td>1</td>\n",
       "      <td>0</td>\n",
       "      <td>150</td>\n",
       "      <td>0</td>\n",
       "      <td>2.3</td>\n",
       "      <td>0</td>\n",
       "      <td>0</td>\n",
       "      <td>1</td>\n",
       "      <td>1</td>\n",
       "    </tr>\n",
       "    <tr>\n",
       "      <th>1</th>\n",
       "      <td>37</td>\n",
       "      <td>1</td>\n",
       "      <td>2</td>\n",
       "      <td>130</td>\n",
       "      <td>250</td>\n",
       "      <td>0</td>\n",
       "      <td>1</td>\n",
       "      <td>187</td>\n",
       "      <td>0</td>\n",
       "      <td>3.5</td>\n",
       "      <td>0</td>\n",
       "      <td>0</td>\n",
       "      <td>2</td>\n",
       "      <td>1</td>\n",
       "    </tr>\n",
       "    <tr>\n",
       "      <th>2</th>\n",
       "      <td>41</td>\n",
       "      <td>0</td>\n",
       "      <td>1</td>\n",
       "      <td>130</td>\n",
       "      <td>204</td>\n",
       "      <td>0</td>\n",
       "      <td>0</td>\n",
       "      <td>172</td>\n",
       "      <td>0</td>\n",
       "      <td>1.4</td>\n",
       "      <td>2</td>\n",
       "      <td>0</td>\n",
       "      <td>2</td>\n",
       "      <td>1</td>\n",
       "    </tr>\n",
       "    <tr>\n",
       "      <th>3</th>\n",
       "      <td>56</td>\n",
       "      <td>1</td>\n",
       "      <td>1</td>\n",
       "      <td>120</td>\n",
       "      <td>236</td>\n",
       "      <td>0</td>\n",
       "      <td>1</td>\n",
       "      <td>178</td>\n",
       "      <td>0</td>\n",
       "      <td>0.8</td>\n",
       "      <td>2</td>\n",
       "      <td>0</td>\n",
       "      <td>2</td>\n",
       "      <td>1</td>\n",
       "    </tr>\n",
       "    <tr>\n",
       "      <th>4</th>\n",
       "      <td>57</td>\n",
       "      <td>0</td>\n",
       "      <td>0</td>\n",
       "      <td>120</td>\n",
       "      <td>354</td>\n",
       "      <td>0</td>\n",
       "      <td>1</td>\n",
       "      <td>163</td>\n",
       "      <td>1</td>\n",
       "      <td>0.6</td>\n",
       "      <td>2</td>\n",
       "      <td>0</td>\n",
       "      <td>2</td>\n",
       "      <td>1</td>\n",
       "    </tr>\n",
       "  </tbody>\n",
       "</table>\n",
       "</div>"
      ],
      "text/plain": [
       "   Age  Sex  ChestPain  RestingBloodPressure  Cholesterol  FastingBloodSugar  \\\n",
       "0   63    1          3                   145          233                  1   \n",
       "1   37    1          2                   130          250                  0   \n",
       "2   41    0          1                   130          204                  0   \n",
       "3   56    1          1                   120          236                  0   \n",
       "4   57    0          0                   120          354                  0   \n",
       "\n",
       "   RestEcg  MaxHeartRateAch  ExcersiseInducedAngina  StDepression  StSlope  \\\n",
       "0        0              150                       0           2.3        0   \n",
       "1        1              187                       0           3.5        0   \n",
       "2        0              172                       0           1.4        2   \n",
       "3        1              178                       0           0.8        2   \n",
       "4        1              163                       1           0.6        2   \n",
       "\n",
       "   NumMajorVessels  Thalassemia  Target  \n",
       "0                0            1       1  \n",
       "1                0            2       1  \n",
       "2                0            2       1  \n",
       "3                0            2       1  \n",
       "4                0            2       1  "
      ]
     },
     "execution_count": 4,
     "metadata": {},
     "output_type": "execute_result"
    }
   ],
   "source": [
    "#check the data headings\n",
    "df.head()"
   ]
  },
  {
   "cell_type": "code",
   "execution_count": 5,
   "id": "cb92f3aa",
   "metadata": {},
   "outputs": [
    {
     "data": {
      "text/plain": [
       "Age                         int64\n",
       "Sex                         int64\n",
       "ChestPain                   int64\n",
       "RestingBloodPressure        int64\n",
       "Cholesterol                 int64\n",
       "FastingBloodSugar           int64\n",
       "RestEcg                     int64\n",
       "MaxHeartRateAch             int64\n",
       "ExcersiseInducedAngina      int64\n",
       "StDepression              float64\n",
       "StSlope                     int64\n",
       "NumMajorVessels             int64\n",
       "Thalassemia                 int64\n",
       "Target                      int64\n",
       "dtype: object"
      ]
     },
     "execution_count": 5,
     "metadata": {},
     "output_type": "execute_result"
    }
   ],
   "source": [
    "df.dtypes"
   ]
  },
  {
   "cell_type": "code",
   "execution_count": 6,
   "id": "f0e74310",
   "metadata": {},
   "outputs": [
    {
     "data": {
      "text/plain": [
       "Index(['Age', 'Sex', 'ChestPain', 'RestingBloodPressure', 'Cholesterol',\n",
       "       'FastingBloodSugar', 'RestEcg', 'MaxHeartRateAch',\n",
       "       'ExcersiseInducedAngina', 'StDepression', 'StSlope', 'NumMajorVessels',\n",
       "       'Thalassemia', 'Target'],\n",
       "      dtype='object')"
      ]
     },
     "execution_count": 6,
     "metadata": {},
     "output_type": "execute_result"
    }
   ],
   "source": [
    "#check the columns\n",
    "df.columns"
   ]
  },
  {
   "cell_type": "code",
   "execution_count": 7,
   "id": "1effb405",
   "metadata": {},
   "outputs": [],
   "source": [
    "#Feature and label fitting\n",
    "features = df.drop('Target', axis=1)\n",
    "label = df['Target']"
   ]
  },
  {
   "cell_type": "code",
   "execution_count": 8,
   "id": "293703cb",
   "metadata": {},
   "outputs": [],
   "source": [
    "#data splitting\n",
    "from sklearn.model_selection import train_test_split\n",
    "X_train, X_test, y_train, y_test = train_test_split(features, label, test_size=0.2, random_state=42)"
   ]
  },
  {
   "cell_type": "code",
   "execution_count": 9,
   "id": "e300fbce",
   "metadata": {},
   "outputs": [
    {
     "data": {
      "text/plain": [
       "(242,)"
      ]
     },
     "execution_count": 9,
     "metadata": {},
     "output_type": "execute_result"
    }
   ],
   "source": [
    "#Check the raws and columns\n",
    "y_train.shape"
   ]
  },
  {
   "cell_type": "code",
   "execution_count": 10,
   "id": "a24662b5",
   "metadata": {},
   "outputs": [
    {
     "data": {
      "text/plain": [
       "(242, 13)"
      ]
     },
     "execution_count": 10,
     "metadata": {},
     "output_type": "execute_result"
    }
   ],
   "source": [
    "X_train.shape"
   ]
  },
  {
   "cell_type": "code",
   "execution_count": 11,
   "id": "7c066f9f",
   "metadata": {},
   "outputs": [
    {
     "data": {
      "text/html": [
       "<div>\n",
       "<style scoped>\n",
       "    .dataframe tbody tr th:only-of-type {\n",
       "        vertical-align: middle;\n",
       "    }\n",
       "\n",
       "    .dataframe tbody tr th {\n",
       "        vertical-align: top;\n",
       "    }\n",
       "\n",
       "    .dataframe thead th {\n",
       "        text-align: right;\n",
       "    }\n",
       "</style>\n",
       "<table border=\"1\" class=\"dataframe\">\n",
       "  <thead>\n",
       "    <tr style=\"text-align: right;\">\n",
       "      <th></th>\n",
       "      <th>Age</th>\n",
       "      <th>Sex</th>\n",
       "      <th>ChestPain</th>\n",
       "      <th>RestingBloodPressure</th>\n",
       "      <th>Cholesterol</th>\n",
       "      <th>FastingBloodSugar</th>\n",
       "      <th>RestEcg</th>\n",
       "      <th>MaxHeartRateAch</th>\n",
       "      <th>ExcersiseInducedAngina</th>\n",
       "      <th>StDepression</th>\n",
       "      <th>StSlope</th>\n",
       "      <th>NumMajorVessels</th>\n",
       "      <th>Thalassemia</th>\n",
       "    </tr>\n",
       "  </thead>\n",
       "  <tbody>\n",
       "    <tr>\n",
       "      <th>132</th>\n",
       "      <td>42</td>\n",
       "      <td>1</td>\n",
       "      <td>1</td>\n",
       "      <td>120</td>\n",
       "      <td>295</td>\n",
       "      <td>0</td>\n",
       "      <td>1</td>\n",
       "      <td>162</td>\n",
       "      <td>0</td>\n",
       "      <td>0.0</td>\n",
       "      <td>2</td>\n",
       "      <td>0</td>\n",
       "      <td>2</td>\n",
       "    </tr>\n",
       "    <tr>\n",
       "      <th>202</th>\n",
       "      <td>58</td>\n",
       "      <td>1</td>\n",
       "      <td>0</td>\n",
       "      <td>150</td>\n",
       "      <td>270</td>\n",
       "      <td>0</td>\n",
       "      <td>0</td>\n",
       "      <td>111</td>\n",
       "      <td>1</td>\n",
       "      <td>0.8</td>\n",
       "      <td>2</td>\n",
       "      <td>0</td>\n",
       "      <td>3</td>\n",
       "    </tr>\n",
       "    <tr>\n",
       "      <th>196</th>\n",
       "      <td>46</td>\n",
       "      <td>1</td>\n",
       "      <td>2</td>\n",
       "      <td>150</td>\n",
       "      <td>231</td>\n",
       "      <td>0</td>\n",
       "      <td>1</td>\n",
       "      <td>147</td>\n",
       "      <td>0</td>\n",
       "      <td>3.6</td>\n",
       "      <td>1</td>\n",
       "      <td>0</td>\n",
       "      <td>2</td>\n",
       "    </tr>\n",
       "    <tr>\n",
       "      <th>75</th>\n",
       "      <td>55</td>\n",
       "      <td>0</td>\n",
       "      <td>1</td>\n",
       "      <td>135</td>\n",
       "      <td>250</td>\n",
       "      <td>0</td>\n",
       "      <td>0</td>\n",
       "      <td>161</td>\n",
       "      <td>0</td>\n",
       "      <td>1.4</td>\n",
       "      <td>1</td>\n",
       "      <td>0</td>\n",
       "      <td>2</td>\n",
       "    </tr>\n",
       "    <tr>\n",
       "      <th>176</th>\n",
       "      <td>60</td>\n",
       "      <td>1</td>\n",
       "      <td>0</td>\n",
       "      <td>117</td>\n",
       "      <td>230</td>\n",
       "      <td>1</td>\n",
       "      <td>1</td>\n",
       "      <td>160</td>\n",
       "      <td>1</td>\n",
       "      <td>1.4</td>\n",
       "      <td>2</td>\n",
       "      <td>2</td>\n",
       "      <td>3</td>\n",
       "    </tr>\n",
       "  </tbody>\n",
       "</table>\n",
       "</div>"
      ],
      "text/plain": [
       "     Age  Sex  ChestPain  RestingBloodPressure  Cholesterol  \\\n",
       "132   42    1          1                   120          295   \n",
       "202   58    1          0                   150          270   \n",
       "196   46    1          2                   150          231   \n",
       "75    55    0          1                   135          250   \n",
       "176   60    1          0                   117          230   \n",
       "\n",
       "     FastingBloodSugar  RestEcg  MaxHeartRateAch  ExcersiseInducedAngina  \\\n",
       "132                  0        1              162                       0   \n",
       "202                  0        0              111                       1   \n",
       "196                  0        1              147                       0   \n",
       "75                   0        0              161                       0   \n",
       "176                  1        1              160                       1   \n",
       "\n",
       "     StDepression  StSlope  NumMajorVessels  Thalassemia  \n",
       "132           0.0        2                0            2  \n",
       "202           0.8        2                0            3  \n",
       "196           3.6        1                0            2  \n",
       "75            1.4        1                0            2  \n",
       "176           1.4        2                2            3  "
      ]
     },
     "execution_count": 11,
     "metadata": {},
     "output_type": "execute_result"
    }
   ],
   "source": [
    "#check the first 5 raws \n",
    "X_train[0:5]"
   ]
  },
  {
   "cell_type": "code",
   "execution_count": 12,
   "id": "f59a2948",
   "metadata": {},
   "outputs": [
    {
     "data": {
      "text/plain": [
       "0      1\n",
       "1      1\n",
       "2      1\n",
       "3      1\n",
       "4      1\n",
       "      ..\n",
       "298    0\n",
       "299    0\n",
       "300    0\n",
       "301    0\n",
       "302    0\n",
       "Name: Target, Length: 303, dtype: int64"
      ]
     },
     "execution_count": 12,
     "metadata": {},
     "output_type": "execute_result"
    }
   ],
   "source": [
    "label"
   ]
  },
  {
   "cell_type": "code",
   "execution_count": 13,
   "id": "039e9129",
   "metadata": {},
   "outputs": [
    {
     "data": {
      "text/html": [
       "<div>\n",
       "<style scoped>\n",
       "    .dataframe tbody tr th:only-of-type {\n",
       "        vertical-align: middle;\n",
       "    }\n",
       "\n",
       "    .dataframe tbody tr th {\n",
       "        vertical-align: top;\n",
       "    }\n",
       "\n",
       "    .dataframe thead th {\n",
       "        text-align: right;\n",
       "    }\n",
       "</style>\n",
       "<table border=\"1\" class=\"dataframe\">\n",
       "  <thead>\n",
       "    <tr style=\"text-align: right;\">\n",
       "      <th></th>\n",
       "      <th>Age</th>\n",
       "      <th>Sex</th>\n",
       "      <th>ChestPain</th>\n",
       "      <th>RestingBloodPressure</th>\n",
       "      <th>Cholesterol</th>\n",
       "      <th>FastingBloodSugar</th>\n",
       "      <th>RestEcg</th>\n",
       "      <th>MaxHeartRateAch</th>\n",
       "      <th>ExcersiseInducedAngina</th>\n",
       "      <th>StDepression</th>\n",
       "      <th>StSlope</th>\n",
       "      <th>NumMajorVessels</th>\n",
       "      <th>Thalassemia</th>\n",
       "    </tr>\n",
       "  </thead>\n",
       "  <tbody>\n",
       "    <tr>\n",
       "      <th>0</th>\n",
       "      <td>63</td>\n",
       "      <td>1</td>\n",
       "      <td>3</td>\n",
       "      <td>145</td>\n",
       "      <td>233</td>\n",
       "      <td>1</td>\n",
       "      <td>0</td>\n",
       "      <td>150</td>\n",
       "      <td>0</td>\n",
       "      <td>2.3</td>\n",
       "      <td>0</td>\n",
       "      <td>0</td>\n",
       "      <td>1</td>\n",
       "    </tr>\n",
       "    <tr>\n",
       "      <th>1</th>\n",
       "      <td>37</td>\n",
       "      <td>1</td>\n",
       "      <td>2</td>\n",
       "      <td>130</td>\n",
       "      <td>250</td>\n",
       "      <td>0</td>\n",
       "      <td>1</td>\n",
       "      <td>187</td>\n",
       "      <td>0</td>\n",
       "      <td>3.5</td>\n",
       "      <td>0</td>\n",
       "      <td>0</td>\n",
       "      <td>2</td>\n",
       "    </tr>\n",
       "    <tr>\n",
       "      <th>2</th>\n",
       "      <td>41</td>\n",
       "      <td>0</td>\n",
       "      <td>1</td>\n",
       "      <td>130</td>\n",
       "      <td>204</td>\n",
       "      <td>0</td>\n",
       "      <td>0</td>\n",
       "      <td>172</td>\n",
       "      <td>0</td>\n",
       "      <td>1.4</td>\n",
       "      <td>2</td>\n",
       "      <td>0</td>\n",
       "      <td>2</td>\n",
       "    </tr>\n",
       "    <tr>\n",
       "      <th>3</th>\n",
       "      <td>56</td>\n",
       "      <td>1</td>\n",
       "      <td>1</td>\n",
       "      <td>120</td>\n",
       "      <td>236</td>\n",
       "      <td>0</td>\n",
       "      <td>1</td>\n",
       "      <td>178</td>\n",
       "      <td>0</td>\n",
       "      <td>0.8</td>\n",
       "      <td>2</td>\n",
       "      <td>0</td>\n",
       "      <td>2</td>\n",
       "    </tr>\n",
       "    <tr>\n",
       "      <th>4</th>\n",
       "      <td>57</td>\n",
       "      <td>0</td>\n",
       "      <td>0</td>\n",
       "      <td>120</td>\n",
       "      <td>354</td>\n",
       "      <td>0</td>\n",
       "      <td>1</td>\n",
       "      <td>163</td>\n",
       "      <td>1</td>\n",
       "      <td>0.6</td>\n",
       "      <td>2</td>\n",
       "      <td>0</td>\n",
       "      <td>2</td>\n",
       "    </tr>\n",
       "    <tr>\n",
       "      <th>...</th>\n",
       "      <td>...</td>\n",
       "      <td>...</td>\n",
       "      <td>...</td>\n",
       "      <td>...</td>\n",
       "      <td>...</td>\n",
       "      <td>...</td>\n",
       "      <td>...</td>\n",
       "      <td>...</td>\n",
       "      <td>...</td>\n",
       "      <td>...</td>\n",
       "      <td>...</td>\n",
       "      <td>...</td>\n",
       "      <td>...</td>\n",
       "    </tr>\n",
       "    <tr>\n",
       "      <th>298</th>\n",
       "      <td>57</td>\n",
       "      <td>0</td>\n",
       "      <td>0</td>\n",
       "      <td>140</td>\n",
       "      <td>241</td>\n",
       "      <td>0</td>\n",
       "      <td>1</td>\n",
       "      <td>123</td>\n",
       "      <td>1</td>\n",
       "      <td>0.2</td>\n",
       "      <td>1</td>\n",
       "      <td>0</td>\n",
       "      <td>3</td>\n",
       "    </tr>\n",
       "    <tr>\n",
       "      <th>299</th>\n",
       "      <td>45</td>\n",
       "      <td>1</td>\n",
       "      <td>3</td>\n",
       "      <td>110</td>\n",
       "      <td>264</td>\n",
       "      <td>0</td>\n",
       "      <td>1</td>\n",
       "      <td>132</td>\n",
       "      <td>0</td>\n",
       "      <td>1.2</td>\n",
       "      <td>1</td>\n",
       "      <td>0</td>\n",
       "      <td>3</td>\n",
       "    </tr>\n",
       "    <tr>\n",
       "      <th>300</th>\n",
       "      <td>68</td>\n",
       "      <td>1</td>\n",
       "      <td>0</td>\n",
       "      <td>144</td>\n",
       "      <td>193</td>\n",
       "      <td>1</td>\n",
       "      <td>1</td>\n",
       "      <td>141</td>\n",
       "      <td>0</td>\n",
       "      <td>3.4</td>\n",
       "      <td>1</td>\n",
       "      <td>2</td>\n",
       "      <td>3</td>\n",
       "    </tr>\n",
       "    <tr>\n",
       "      <th>301</th>\n",
       "      <td>57</td>\n",
       "      <td>1</td>\n",
       "      <td>0</td>\n",
       "      <td>130</td>\n",
       "      <td>131</td>\n",
       "      <td>0</td>\n",
       "      <td>1</td>\n",
       "      <td>115</td>\n",
       "      <td>1</td>\n",
       "      <td>1.2</td>\n",
       "      <td>1</td>\n",
       "      <td>1</td>\n",
       "      <td>3</td>\n",
       "    </tr>\n",
       "    <tr>\n",
       "      <th>302</th>\n",
       "      <td>57</td>\n",
       "      <td>0</td>\n",
       "      <td>1</td>\n",
       "      <td>130</td>\n",
       "      <td>236</td>\n",
       "      <td>0</td>\n",
       "      <td>0</td>\n",
       "      <td>174</td>\n",
       "      <td>0</td>\n",
       "      <td>0.0</td>\n",
       "      <td>1</td>\n",
       "      <td>1</td>\n",
       "      <td>2</td>\n",
       "    </tr>\n",
       "  </tbody>\n",
       "</table>\n",
       "<p>303 rows × 13 columns</p>\n",
       "</div>"
      ],
      "text/plain": [
       "     Age  Sex  ChestPain  RestingBloodPressure  Cholesterol  \\\n",
       "0     63    1          3                   145          233   \n",
       "1     37    1          2                   130          250   \n",
       "2     41    0          1                   130          204   \n",
       "3     56    1          1                   120          236   \n",
       "4     57    0          0                   120          354   \n",
       "..   ...  ...        ...                   ...          ...   \n",
       "298   57    0          0                   140          241   \n",
       "299   45    1          3                   110          264   \n",
       "300   68    1          0                   144          193   \n",
       "301   57    1          0                   130          131   \n",
       "302   57    0          1                   130          236   \n",
       "\n",
       "     FastingBloodSugar  RestEcg  MaxHeartRateAch  ExcersiseInducedAngina  \\\n",
       "0                    1        0              150                       0   \n",
       "1                    0        1              187                       0   \n",
       "2                    0        0              172                       0   \n",
       "3                    0        1              178                       0   \n",
       "4                    0        1              163                       1   \n",
       "..                 ...      ...              ...                     ...   \n",
       "298                  0        1              123                       1   \n",
       "299                  0        1              132                       0   \n",
       "300                  1        1              141                       0   \n",
       "301                  0        1              115                       1   \n",
       "302                  0        0              174                       0   \n",
       "\n",
       "     StDepression  StSlope  NumMajorVessels  Thalassemia  \n",
       "0             2.3        0                0            1  \n",
       "1             3.5        0                0            2  \n",
       "2             1.4        2                0            2  \n",
       "3             0.8        2                0            2  \n",
       "4             0.6        2                0            2  \n",
       "..            ...      ...              ...          ...  \n",
       "298           0.2        1                0            3  \n",
       "299           1.2        1                0            3  \n",
       "300           3.4        1                2            3  \n",
       "301           1.2        1                1            3  \n",
       "302           0.0        1                1            2  \n",
       "\n",
       "[303 rows x 13 columns]"
      ]
     },
     "execution_count": 13,
     "metadata": {},
     "output_type": "execute_result"
    }
   ],
   "source": [
    "features"
   ]
  },
  {
   "cell_type": "code",
   "execution_count": 14,
   "id": "37d60a8d",
   "metadata": {},
   "outputs": [
    {
     "name": "stdout",
     "output_type": "stream",
     "text": [
      "<class 'pandas.core.frame.DataFrame'>\n",
      "RangeIndex: 303 entries, 0 to 302\n",
      "Data columns (total 14 columns):\n",
      " #   Column                  Non-Null Count  Dtype  \n",
      "---  ------                  --------------  -----  \n",
      " 0   Age                     303 non-null    int64  \n",
      " 1   Sex                     303 non-null    int64  \n",
      " 2   ChestPain               303 non-null    int64  \n",
      " 3   RestingBloodPressure    303 non-null    int64  \n",
      " 4   Cholesterol             303 non-null    int64  \n",
      " 5   FastingBloodSugar       303 non-null    int64  \n",
      " 6   RestEcg                 303 non-null    int64  \n",
      " 7   MaxHeartRateAch         303 non-null    int64  \n",
      " 8   ExcersiseInducedAngina  303 non-null    int64  \n",
      " 9   StDepression            303 non-null    float64\n",
      " 10  StSlope                 303 non-null    int64  \n",
      " 11  NumMajorVessels         303 non-null    int64  \n",
      " 12  Thalassemia             303 non-null    int64  \n",
      " 13  Target                  303 non-null    int64  \n",
      "dtypes: float64(1), int64(13)\n",
      "memory usage: 33.3 KB\n"
     ]
    }
   ],
   "source": [
    "#Check the null values\n",
    "df.info()"
   ]
  },
  {
   "cell_type": "code",
   "execution_count": 15,
   "id": "1ced973c",
   "metadata": {},
   "outputs": [
    {
     "name": "stdout",
     "output_type": "stream",
     "text": [
      "   Age  Sex  ChestPain  RestingBloodPressure  Cholesterol  FastingBloodSugar  \\\n",
      "0   63    1          3                   145          233                  1   \n",
      "1   37    1          2                   130          250                  0   \n",
      "2   41    0          1                   130          204                  0   \n",
      "3   56    1          1                   120          236                  0   \n",
      "4   57    0          0                   120          354                  0   \n",
      "\n",
      "   RestEcg  MaxHeartRateAch  ExcersiseInducedAngina  StDepression  StSlope  \\\n",
      "0        0              150                       0           2.3        0   \n",
      "1        1              187                       0           3.5        0   \n",
      "2        0              172                       0           1.4        2   \n",
      "3        1              178                       0           0.8        2   \n",
      "4        1              163                       1           0.6        2   \n",
      "\n",
      "   NumMajorVessels  Thalassemia  Target  \n",
      "0                0            1       1  \n",
      "1                0            2       1  \n",
      "2                0            2       1  \n",
      "3                0            2       1  \n",
      "4                0            2       1  \n"
     ]
    }
   ],
   "source": [
    "print(df.head())"
   ]
  },
  {
   "cell_type": "code",
   "execution_count": 16,
   "id": "5f8d13b1",
   "metadata": {},
   "outputs": [],
   "source": [
    "#Creating evalution methods\n",
    "from sklearn.metrics import accuracy_score\n",
    "from sklearn.metrics import precision_score\n",
    "from sklearn.metrics import recall_score\n",
    "from sklearn.metrics import f1_score\n",
    "from sklearn.metrics import cohen_kappa_score\n",
    "from sklearn.metrics import roc_auc_score\n",
    "from sklearn.metrics import confusion_matrix\n",
    "from sklearn.model_selection import cross_val_score\n",
    "from sklearn.metrics import classification_report\n",
    "\n",
    "def evaluate(model, X_test, y_test):\n",
    "  y_pred = model.predict(np.array(X_test))\n",
    "  pred = [round(value) for value in y_pred]\n",
    "\n",
    "  accuracy = accuracy_score(y_test, pred)\n",
    "  precision = precision_score(y_test, pred)\n",
    "  recall = recall_score(y_test, pred)\n",
    "  f1 = f1_score(y_test, pred)\n",
    "  tn, fp, fn, tp = confusion_matrix(y_test, pred).ravel()\n",
    "\n",
    "  print(\"TN: {}   FP: {}\\nFN: {}   TP: {}\".format(tn, fp, fn, tp))\n",
    "  print('\\nAccuracy : %f' % accuracy)\n",
    "  print('Precision: %f' % precision)\n",
    "  print('Recall   : %f' % recall)\n",
    "  print('F1 score : %f' % f1)\n",
    "\n",
    "def evaluate2(model, X_train, y_train, X_test, y_test):\n",
    "  scores = cross_val_score(model, X_train, y_train, cv=10, scoring='roc_auc')\n",
    "  print(classification_report(y_test, rfc_predict))\n",
    "  print(\"Mean AUC: \", scores.mean())"
   ]
  },
  {
   "cell_type": "code",
   "execution_count": 17,
   "id": "453e385a",
   "metadata": {},
   "outputs": [
    {
     "data": {
      "text/plain": [
       "RandomForestClassifier()"
      ]
     },
     "execution_count": 17,
     "metadata": {},
     "output_type": "execute_result"
    }
   ],
   "source": [
    "#Randomforest classification process\n",
    "from sklearn.ensemble import RandomForestClassifier\n",
    "\n",
    "clf = RandomForestClassifier()\n",
    "clf.fit(X_train,y_train)"
   ]
  },
  {
   "cell_type": "code",
   "execution_count": 18,
   "id": "a63883ea",
   "metadata": {},
   "outputs": [
    {
     "name": "stdout",
     "output_type": "stream",
     "text": [
      "TN: 24   FP: 5\n",
      "FN: 4   TP: 28\n",
      "\n",
      "Accuracy : 0.852459\n",
      "Precision: 0.848485\n",
      "Recall   : 0.875000\n",
      "F1 score : 0.861538\n"
     ]
    }
   ],
   "source": [
    "#evaluate the module\n",
    "evaluate(clf, X_test, y_test)"
   ]
  },
  {
   "cell_type": "code",
   "execution_count": 24,
   "id": "a4ebd79b",
   "metadata": {},
   "outputs": [
    {
     "name": "stdout",
     "output_type": "stream",
     "text": [
      "Fitting 3 folds for each of 100 candidates, totalling 300 fits\n",
      "{'n_estimators': 600, 'max_features': 'sqrt', 'max_depth': 3}\n"
     ]
    }
   ],
   "source": [
    "#Hyper parameter tunning\n",
    "from sklearn.model_selection import RandomizedSearchCV\n",
    "\n",
    "n_estimators = [200, 400, 600, 800, 1000, 1200, 1400, 1600, 1800, 2000]\n",
    "max_features = ['auto', 'sqrt']\n",
    "max_depth = [1,2,3,4,5,6,7,8,9]\n",
    "\n",
    "random_grid = {\n",
    "    'n_estimators': n_estimators,\n",
    "    'max_features': max_features,\n",
    "    'max_depth': max_depth\n",
    "}\n",
    "rfc = RandomForestClassifier()\n",
    "rand_search = RandomizedSearchCV(estimator = rfc, \n",
    "                                 param_distributions = random_grid, \n",
    "                                 n_iter = 100, \n",
    "                                 cv = 3, \n",
    "                                 verbose=2, \n",
    "                                 random_state=123, \n",
    "                                 n_jobs = -1)\n",
    "rand_search.fit(X_train, y_train)\n",
    "\n",
    "print(rand_search.best_params_)"
   ]
  },
  {
   "cell_type": "code",
   "execution_count": 19,
   "id": "815e7f85",
   "metadata": {},
   "outputs": [],
   "source": [
    "#check the best module\n",
    "rfc = RandomForestClassifier(n_estimators= 200, max_features='auto', max_depth= 4)"
   ]
  },
  {
   "cell_type": "code",
   "execution_count": 20,
   "id": "22c6c858",
   "metadata": {},
   "outputs": [
    {
     "data": {
      "text/plain": [
       "RandomForestClassifier(max_depth=4, n_estimators=200)"
      ]
     },
     "execution_count": 20,
     "metadata": {},
     "output_type": "execute_result"
    }
   ],
   "source": [
    "#module fitting\n",
    "rfc.fit(X_train,y_train)"
   ]
  },
  {
   "cell_type": "code",
   "execution_count": 21,
   "id": "4f962dad",
   "metadata": {},
   "outputs": [
    {
     "name": "stdout",
     "output_type": "stream",
     "text": [
      "TN: 24   FP: 5\n",
      "FN: 4   TP: 28\n",
      "\n",
      "Accuracy : 0.852459\n",
      "Precision: 0.848485\n",
      "Recall   : 0.875000\n",
      "F1 score : 0.861538\n"
     ]
    }
   ],
   "source": [
    "#evaluate the module\n",
    "evaluate(rfc, X_test, y_test)"
   ]
  },
  {
   "cell_type": "code",
   "execution_count": null,
   "id": "99975882",
   "metadata": {},
   "outputs": [],
   "source": [
    "#above rfc outputs\n",
    "#TN: 24   FP: 5\n",
    "#FN: 4   TP: 28\n",
    "\n",
    "#Accuracy : 0.852459\n",
    "#Precision: 0.848485\n",
    "#Recall   : 0.875000\n",
    "#F1 score : 0.861538"
   ]
  },
  {
   "cell_type": "code",
   "execution_count": 22,
   "id": "b0f08df9",
   "metadata": {},
   "outputs": [],
   "source": [
    "#recheck the module with differnet parameters\n",
    "rfc2 = RandomForestClassifier(n_estimators= 600, max_features='sqrt', max_depth= 3)"
   ]
  },
  {
   "cell_type": "code",
   "execution_count": 23,
   "id": "909b0c85",
   "metadata": {},
   "outputs": [
    {
     "data": {
      "text/plain": [
       "RandomForestClassifier(max_depth=3, max_features='sqrt', n_estimators=600)"
      ]
     },
     "execution_count": 23,
     "metadata": {},
     "output_type": "execute_result"
    }
   ],
   "source": [
    "#re-modeule fitting\n",
    "rfc2.fit(X_train,y_train)"
   ]
  },
  {
   "cell_type": "code",
   "execution_count": 24,
   "id": "e68c490a",
   "metadata": {},
   "outputs": [
    {
     "name": "stdout",
     "output_type": "stream",
     "text": [
      "TN: 24   FP: 5\n",
      "FN: 3   TP: 29\n",
      "\n",
      "Accuracy : 0.868852\n",
      "Precision: 0.852941\n",
      "Recall   : 0.906250\n",
      "F1 score : 0.878788\n"
     ]
    }
   ],
   "source": [
    "#evaluate the module\n",
    "#Best Module is Random forest classification\n",
    "evaluate(rfc2, X_test, y_test)"
   ]
  },
  {
   "cell_type": "code",
   "execution_count": null,
   "id": "bb928826",
   "metadata": {},
   "outputs": [],
   "source": [
    "#above rfc2 outputs\n",
    "#TN: 24   FP: 5\n",
    "#FN: 3   TP: 29\n",
    "\n",
    "#Accuracy : 0.868852\n",
    "#Precision: 0.852941\n",
    "#Recall   : 0.906250\n",
    "#F1 score : 0.878788"
   ]
  },
  {
   "cell_type": "code",
   "execution_count": 25,
   "id": "1c92a975",
   "metadata": {},
   "outputs": [],
   "source": [
    "#XGBoost classification process\n",
    "import xgboost as xgb"
   ]
  },
  {
   "cell_type": "code",
   "execution_count": 26,
   "id": "b8b8c201",
   "metadata": {},
   "outputs": [],
   "source": [
    "model = xgb.XGBClassifier()"
   ]
  },
  {
   "cell_type": "code",
   "execution_count": 27,
   "id": "a61a4981",
   "metadata": {},
   "outputs": [],
   "source": [
    "modelxgb = xgb.XGBClassifier(n_estimators= 100, max_depth= 6)"
   ]
  },
  {
   "cell_type": "code",
   "execution_count": 28,
   "id": "1bbbe795",
   "metadata": {},
   "outputs": [
    {
     "name": "stdout",
     "output_type": "stream",
     "text": [
      "[10:05:12] WARNING: ..\\src\\learner.cc:1061: Starting in XGBoost 1.3.0, the default evaluation metric used with the objective 'binary:logistic' was changed from 'error' to 'logloss'. Explicitly set eval_metric if you'd like to restore the old behavior.\n"
     ]
    },
    {
     "name": "stderr",
     "output_type": "stream",
     "text": [
      "C:\\Users\\ASUS\\anaconda3\\envs\\jupyterLab\\lib\\site-packages\\xgboost\\sklearn.py:888: UserWarning: The use of label encoder in XGBClassifier is deprecated and will be removed in a future release. To remove this warning, do the following: 1) Pass option use_label_encoder=False when constructing XGBClassifier object; and 2) Encode your labels (y) as integers starting with 0, i.e. 0, 1, 2, ..., [num_class - 1].\n",
      "  warnings.warn(label_encoder_deprecation_msg, UserWarning)\n"
     ]
    },
    {
     "data": {
      "text/plain": [
       "XGBClassifier(base_score=0.5, booster='gbtree', colsample_bylevel=1,\n",
       "              colsample_bynode=1, colsample_bytree=1, gamma=0, gpu_id=-1,\n",
       "              importance_type='gain', interaction_constraints='',\n",
       "              learning_rate=0.300000012, max_delta_step=0, max_depth=6,\n",
       "              min_child_weight=1, missing=nan, monotone_constraints='()',\n",
       "              n_estimators=100, n_jobs=4, num_parallel_tree=1, random_state=0,\n",
       "              reg_alpha=0, reg_lambda=1, scale_pos_weight=1, subsample=1,\n",
       "              tree_method='exact', validate_parameters=1, verbosity=None)"
      ]
     },
     "execution_count": 28,
     "metadata": {},
     "output_type": "execute_result"
    }
   ],
   "source": [
    "modelxgb.fit(X_train,y_train)"
   ]
  },
  {
   "cell_type": "code",
   "execution_count": 29,
   "id": "e9c44c1f",
   "metadata": {},
   "outputs": [],
   "source": [
    "def evaluateBooster(model, X_test, y_test):\n",
    "\n",
    "  y_pred = model.predict(X_test)\n",
    "  pred = [round(value) for value in y_pred]\n",
    "  accuracy = accuracy_score(y_test, pred)\n",
    "  precision = precision_score(y_test, pred)\n",
    "  recall = recall_score(y_test, pred)\n",
    "  f1 = f1_score(y_test, pred)\n",
    "  tn, fp, fn, tp = confusion_matrix(y_test, pred).ravel()\n",
    "\n",
    "  print(\"TN: {}   FP: {}\\nFN: {}   TP: {}\".format(tn, fp, fn, tp))\n",
    "  print('\\nAccuracy : %f' % accuracy)\n",
    "  print('Precision: %f' % precision)\n",
    "  print('Recall   : %f' % recall)\n",
    "  print('F1 score : %f' % f1)"
   ]
  },
  {
   "cell_type": "code",
   "execution_count": 30,
   "id": "572987d5",
   "metadata": {},
   "outputs": [
    {
     "name": "stdout",
     "output_type": "stream",
     "text": [
      "TN: 25   FP: 4\n",
      "FN: 7   TP: 25\n",
      "\n",
      "Accuracy : 0.819672\n",
      "Precision: 0.862069\n",
      "Recall   : 0.781250\n",
      "F1 score : 0.819672\n"
     ]
    }
   ],
   "source": [
    "#evaluate the module\n",
    "evaluateBooster(modelxgb, X_test, y_test)"
   ]
  },
  {
   "cell_type": "code",
   "execution_count": 31,
   "id": "ed968de4",
   "metadata": {},
   "outputs": [],
   "source": [
    "#Light-boost classification process\n",
    "import lightgbm as lgb"
   ]
  },
  {
   "cell_type": "code",
   "execution_count": 32,
   "id": "841f326f",
   "metadata": {},
   "outputs": [],
   "source": [
    "modellg = lgb.LGBMClassifier()"
   ]
  },
  {
   "cell_type": "code",
   "execution_count": 33,
   "id": "cd2d389e",
   "metadata": {},
   "outputs": [
    {
     "data": {
      "text/plain": [
       "LGBMClassifier()"
      ]
     },
     "execution_count": 33,
     "metadata": {},
     "output_type": "execute_result"
    }
   ],
   "source": [
    "modellg.fit(X_train,y_train)"
   ]
  },
  {
   "cell_type": "code",
   "execution_count": 34,
   "id": "34bb1013",
   "metadata": {},
   "outputs": [
    {
     "name": "stdout",
     "output_type": "stream",
     "text": [
      "TN: 25   FP: 4\n",
      "FN: 6   TP: 26\n",
      "\n",
      "Accuracy : 0.836066\n",
      "Precision: 0.866667\n",
      "Recall   : 0.812500\n",
      "F1 score : 0.838710\n"
     ]
    }
   ],
   "source": [
    "evaluateBooster(modellg, X_test, y_test)"
   ]
  },
  {
   "cell_type": "code",
   "execution_count": 35,
   "id": "d62b6d7f",
   "metadata": {},
   "outputs": [
    {
     "data": {
      "text/html": [
       "<div>\n",
       "<style scoped>\n",
       "    .dataframe tbody tr th:only-of-type {\n",
       "        vertical-align: middle;\n",
       "    }\n",
       "\n",
       "    .dataframe tbody tr th {\n",
       "        vertical-align: top;\n",
       "    }\n",
       "\n",
       "    .dataframe thead th {\n",
       "        text-align: right;\n",
       "    }\n",
       "</style>\n",
       "<table border=\"1\" class=\"dataframe\">\n",
       "  <thead>\n",
       "    <tr style=\"text-align: right;\">\n",
       "      <th></th>\n",
       "      <th>Age</th>\n",
       "      <th>Sex</th>\n",
       "      <th>ChestPain</th>\n",
       "      <th>RestingBloodPressure</th>\n",
       "      <th>Cholesterol</th>\n",
       "      <th>FastingBloodSugar</th>\n",
       "      <th>RestEcg</th>\n",
       "      <th>MaxHeartRateAch</th>\n",
       "      <th>ExcersiseInducedAngina</th>\n",
       "      <th>StDepression</th>\n",
       "      <th>StSlope</th>\n",
       "      <th>NumMajorVessels</th>\n",
       "      <th>Thalassemia</th>\n",
       "      <th>Target</th>\n",
       "    </tr>\n",
       "  </thead>\n",
       "  <tbody>\n",
       "    <tr>\n",
       "      <th>Age</th>\n",
       "      <td>1.000000</td>\n",
       "      <td>-0.098447</td>\n",
       "      <td>-0.068653</td>\n",
       "      <td>0.279351</td>\n",
       "      <td>0.213678</td>\n",
       "      <td>0.121308</td>\n",
       "      <td>-0.116211</td>\n",
       "      <td>-0.398522</td>\n",
       "      <td>0.096801</td>\n",
       "      <td>0.210013</td>\n",
       "      <td>-0.168814</td>\n",
       "      <td>0.276326</td>\n",
       "      <td>0.068001</td>\n",
       "      <td>-0.225439</td>\n",
       "    </tr>\n",
       "    <tr>\n",
       "      <th>Sex</th>\n",
       "      <td>-0.098447</td>\n",
       "      <td>1.000000</td>\n",
       "      <td>-0.049353</td>\n",
       "      <td>-0.056769</td>\n",
       "      <td>-0.197912</td>\n",
       "      <td>0.045032</td>\n",
       "      <td>-0.058196</td>\n",
       "      <td>-0.044020</td>\n",
       "      <td>0.141664</td>\n",
       "      <td>0.096093</td>\n",
       "      <td>-0.030711</td>\n",
       "      <td>0.118261</td>\n",
       "      <td>0.210041</td>\n",
       "      <td>-0.280937</td>\n",
       "    </tr>\n",
       "    <tr>\n",
       "      <th>ChestPain</th>\n",
       "      <td>-0.068653</td>\n",
       "      <td>-0.049353</td>\n",
       "      <td>1.000000</td>\n",
       "      <td>0.047608</td>\n",
       "      <td>-0.076904</td>\n",
       "      <td>0.094444</td>\n",
       "      <td>0.044421</td>\n",
       "      <td>0.295762</td>\n",
       "      <td>-0.394280</td>\n",
       "      <td>-0.149230</td>\n",
       "      <td>0.119717</td>\n",
       "      <td>-0.181053</td>\n",
       "      <td>-0.161736</td>\n",
       "      <td>0.433798</td>\n",
       "    </tr>\n",
       "    <tr>\n",
       "      <th>RestingBloodPressure</th>\n",
       "      <td>0.279351</td>\n",
       "      <td>-0.056769</td>\n",
       "      <td>0.047608</td>\n",
       "      <td>1.000000</td>\n",
       "      <td>0.123174</td>\n",
       "      <td>0.177531</td>\n",
       "      <td>-0.114103</td>\n",
       "      <td>-0.046698</td>\n",
       "      <td>0.067616</td>\n",
       "      <td>0.193216</td>\n",
       "      <td>-0.121475</td>\n",
       "      <td>0.101389</td>\n",
       "      <td>0.062210</td>\n",
       "      <td>-0.144931</td>\n",
       "    </tr>\n",
       "    <tr>\n",
       "      <th>Cholesterol</th>\n",
       "      <td>0.213678</td>\n",
       "      <td>-0.197912</td>\n",
       "      <td>-0.076904</td>\n",
       "      <td>0.123174</td>\n",
       "      <td>1.000000</td>\n",
       "      <td>0.013294</td>\n",
       "      <td>-0.151040</td>\n",
       "      <td>-0.009940</td>\n",
       "      <td>0.067023</td>\n",
       "      <td>0.053952</td>\n",
       "      <td>-0.004038</td>\n",
       "      <td>0.070511</td>\n",
       "      <td>0.098803</td>\n",
       "      <td>-0.085239</td>\n",
       "    </tr>\n",
       "    <tr>\n",
       "      <th>FastingBloodSugar</th>\n",
       "      <td>0.121308</td>\n",
       "      <td>0.045032</td>\n",
       "      <td>0.094444</td>\n",
       "      <td>0.177531</td>\n",
       "      <td>0.013294</td>\n",
       "      <td>1.000000</td>\n",
       "      <td>-0.084189</td>\n",
       "      <td>-0.008567</td>\n",
       "      <td>0.025665</td>\n",
       "      <td>0.005747</td>\n",
       "      <td>-0.059894</td>\n",
       "      <td>0.137979</td>\n",
       "      <td>-0.032019</td>\n",
       "      <td>-0.028046</td>\n",
       "    </tr>\n",
       "    <tr>\n",
       "      <th>RestEcg</th>\n",
       "      <td>-0.116211</td>\n",
       "      <td>-0.058196</td>\n",
       "      <td>0.044421</td>\n",
       "      <td>-0.114103</td>\n",
       "      <td>-0.151040</td>\n",
       "      <td>-0.084189</td>\n",
       "      <td>1.000000</td>\n",
       "      <td>0.044123</td>\n",
       "      <td>-0.070733</td>\n",
       "      <td>-0.058770</td>\n",
       "      <td>0.093045</td>\n",
       "      <td>-0.072042</td>\n",
       "      <td>-0.011981</td>\n",
       "      <td>0.137230</td>\n",
       "    </tr>\n",
       "    <tr>\n",
       "      <th>MaxHeartRateAch</th>\n",
       "      <td>-0.398522</td>\n",
       "      <td>-0.044020</td>\n",
       "      <td>0.295762</td>\n",
       "      <td>-0.046698</td>\n",
       "      <td>-0.009940</td>\n",
       "      <td>-0.008567</td>\n",
       "      <td>0.044123</td>\n",
       "      <td>1.000000</td>\n",
       "      <td>-0.378812</td>\n",
       "      <td>-0.344187</td>\n",
       "      <td>0.386784</td>\n",
       "      <td>-0.213177</td>\n",
       "      <td>-0.096439</td>\n",
       "      <td>0.421741</td>\n",
       "    </tr>\n",
       "    <tr>\n",
       "      <th>ExcersiseInducedAngina</th>\n",
       "      <td>0.096801</td>\n",
       "      <td>0.141664</td>\n",
       "      <td>-0.394280</td>\n",
       "      <td>0.067616</td>\n",
       "      <td>0.067023</td>\n",
       "      <td>0.025665</td>\n",
       "      <td>-0.070733</td>\n",
       "      <td>-0.378812</td>\n",
       "      <td>1.000000</td>\n",
       "      <td>0.288223</td>\n",
       "      <td>-0.257748</td>\n",
       "      <td>0.115739</td>\n",
       "      <td>0.206754</td>\n",
       "      <td>-0.436757</td>\n",
       "    </tr>\n",
       "    <tr>\n",
       "      <th>StDepression</th>\n",
       "      <td>0.210013</td>\n",
       "      <td>0.096093</td>\n",
       "      <td>-0.149230</td>\n",
       "      <td>0.193216</td>\n",
       "      <td>0.053952</td>\n",
       "      <td>0.005747</td>\n",
       "      <td>-0.058770</td>\n",
       "      <td>-0.344187</td>\n",
       "      <td>0.288223</td>\n",
       "      <td>1.000000</td>\n",
       "      <td>-0.577537</td>\n",
       "      <td>0.222682</td>\n",
       "      <td>0.210244</td>\n",
       "      <td>-0.430696</td>\n",
       "    </tr>\n",
       "    <tr>\n",
       "      <th>StSlope</th>\n",
       "      <td>-0.168814</td>\n",
       "      <td>-0.030711</td>\n",
       "      <td>0.119717</td>\n",
       "      <td>-0.121475</td>\n",
       "      <td>-0.004038</td>\n",
       "      <td>-0.059894</td>\n",
       "      <td>0.093045</td>\n",
       "      <td>0.386784</td>\n",
       "      <td>-0.257748</td>\n",
       "      <td>-0.577537</td>\n",
       "      <td>1.000000</td>\n",
       "      <td>-0.080155</td>\n",
       "      <td>-0.104764</td>\n",
       "      <td>0.345877</td>\n",
       "    </tr>\n",
       "    <tr>\n",
       "      <th>NumMajorVessels</th>\n",
       "      <td>0.276326</td>\n",
       "      <td>0.118261</td>\n",
       "      <td>-0.181053</td>\n",
       "      <td>0.101389</td>\n",
       "      <td>0.070511</td>\n",
       "      <td>0.137979</td>\n",
       "      <td>-0.072042</td>\n",
       "      <td>-0.213177</td>\n",
       "      <td>0.115739</td>\n",
       "      <td>0.222682</td>\n",
       "      <td>-0.080155</td>\n",
       "      <td>1.000000</td>\n",
       "      <td>0.151832</td>\n",
       "      <td>-0.391724</td>\n",
       "    </tr>\n",
       "    <tr>\n",
       "      <th>Thalassemia</th>\n",
       "      <td>0.068001</td>\n",
       "      <td>0.210041</td>\n",
       "      <td>-0.161736</td>\n",
       "      <td>0.062210</td>\n",
       "      <td>0.098803</td>\n",
       "      <td>-0.032019</td>\n",
       "      <td>-0.011981</td>\n",
       "      <td>-0.096439</td>\n",
       "      <td>0.206754</td>\n",
       "      <td>0.210244</td>\n",
       "      <td>-0.104764</td>\n",
       "      <td>0.151832</td>\n",
       "      <td>1.000000</td>\n",
       "      <td>-0.344029</td>\n",
       "    </tr>\n",
       "    <tr>\n",
       "      <th>Target</th>\n",
       "      <td>-0.225439</td>\n",
       "      <td>-0.280937</td>\n",
       "      <td>0.433798</td>\n",
       "      <td>-0.144931</td>\n",
       "      <td>-0.085239</td>\n",
       "      <td>-0.028046</td>\n",
       "      <td>0.137230</td>\n",
       "      <td>0.421741</td>\n",
       "      <td>-0.436757</td>\n",
       "      <td>-0.430696</td>\n",
       "      <td>0.345877</td>\n",
       "      <td>-0.391724</td>\n",
       "      <td>-0.344029</td>\n",
       "      <td>1.000000</td>\n",
       "    </tr>\n",
       "  </tbody>\n",
       "</table>\n",
       "</div>"
      ],
      "text/plain": [
       "                             Age       Sex  ChestPain  RestingBloodPressure  \\\n",
       "Age                     1.000000 -0.098447  -0.068653              0.279351   \n",
       "Sex                    -0.098447  1.000000  -0.049353             -0.056769   \n",
       "ChestPain              -0.068653 -0.049353   1.000000              0.047608   \n",
       "RestingBloodPressure    0.279351 -0.056769   0.047608              1.000000   \n",
       "Cholesterol             0.213678 -0.197912  -0.076904              0.123174   \n",
       "FastingBloodSugar       0.121308  0.045032   0.094444              0.177531   \n",
       "RestEcg                -0.116211 -0.058196   0.044421             -0.114103   \n",
       "MaxHeartRateAch        -0.398522 -0.044020   0.295762             -0.046698   \n",
       "ExcersiseInducedAngina  0.096801  0.141664  -0.394280              0.067616   \n",
       "StDepression            0.210013  0.096093  -0.149230              0.193216   \n",
       "StSlope                -0.168814 -0.030711   0.119717             -0.121475   \n",
       "NumMajorVessels         0.276326  0.118261  -0.181053              0.101389   \n",
       "Thalassemia             0.068001  0.210041  -0.161736              0.062210   \n",
       "Target                 -0.225439 -0.280937   0.433798             -0.144931   \n",
       "\n",
       "                        Cholesterol  FastingBloodSugar   RestEcg  \\\n",
       "Age                        0.213678           0.121308 -0.116211   \n",
       "Sex                       -0.197912           0.045032 -0.058196   \n",
       "ChestPain                 -0.076904           0.094444  0.044421   \n",
       "RestingBloodPressure       0.123174           0.177531 -0.114103   \n",
       "Cholesterol                1.000000           0.013294 -0.151040   \n",
       "FastingBloodSugar          0.013294           1.000000 -0.084189   \n",
       "RestEcg                   -0.151040          -0.084189  1.000000   \n",
       "MaxHeartRateAch           -0.009940          -0.008567  0.044123   \n",
       "ExcersiseInducedAngina     0.067023           0.025665 -0.070733   \n",
       "StDepression               0.053952           0.005747 -0.058770   \n",
       "StSlope                   -0.004038          -0.059894  0.093045   \n",
       "NumMajorVessels            0.070511           0.137979 -0.072042   \n",
       "Thalassemia                0.098803          -0.032019 -0.011981   \n",
       "Target                    -0.085239          -0.028046  0.137230   \n",
       "\n",
       "                        MaxHeartRateAch  ExcersiseInducedAngina  StDepression  \\\n",
       "Age                           -0.398522                0.096801      0.210013   \n",
       "Sex                           -0.044020                0.141664      0.096093   \n",
       "ChestPain                      0.295762               -0.394280     -0.149230   \n",
       "RestingBloodPressure          -0.046698                0.067616      0.193216   \n",
       "Cholesterol                   -0.009940                0.067023      0.053952   \n",
       "FastingBloodSugar             -0.008567                0.025665      0.005747   \n",
       "RestEcg                        0.044123               -0.070733     -0.058770   \n",
       "MaxHeartRateAch                1.000000               -0.378812     -0.344187   \n",
       "ExcersiseInducedAngina        -0.378812                1.000000      0.288223   \n",
       "StDepression                  -0.344187                0.288223      1.000000   \n",
       "StSlope                        0.386784               -0.257748     -0.577537   \n",
       "NumMajorVessels               -0.213177                0.115739      0.222682   \n",
       "Thalassemia                   -0.096439                0.206754      0.210244   \n",
       "Target                         0.421741               -0.436757     -0.430696   \n",
       "\n",
       "                         StSlope  NumMajorVessels  Thalassemia    Target  \n",
       "Age                    -0.168814         0.276326     0.068001 -0.225439  \n",
       "Sex                    -0.030711         0.118261     0.210041 -0.280937  \n",
       "ChestPain               0.119717        -0.181053    -0.161736  0.433798  \n",
       "RestingBloodPressure   -0.121475         0.101389     0.062210 -0.144931  \n",
       "Cholesterol            -0.004038         0.070511     0.098803 -0.085239  \n",
       "FastingBloodSugar      -0.059894         0.137979    -0.032019 -0.028046  \n",
       "RestEcg                 0.093045        -0.072042    -0.011981  0.137230  \n",
       "MaxHeartRateAch         0.386784        -0.213177    -0.096439  0.421741  \n",
       "ExcersiseInducedAngina -0.257748         0.115739     0.206754 -0.436757  \n",
       "StDepression           -0.577537         0.222682     0.210244 -0.430696  \n",
       "StSlope                 1.000000        -0.080155    -0.104764  0.345877  \n",
       "NumMajorVessels        -0.080155         1.000000     0.151832 -0.391724  \n",
       "Thalassemia            -0.104764         0.151832     1.000000 -0.344029  \n",
       "Target                  0.345877        -0.391724    -0.344029  1.000000  "
      ]
     },
     "execution_count": 35,
     "metadata": {},
     "output_type": "execute_result"
    }
   ],
   "source": [
    "df.corr()"
   ]
  },
  {
   "cell_type": "code",
   "execution_count": 36,
   "id": "709ffebd",
   "metadata": {},
   "outputs": [],
   "source": [
    "#feature sellection process\n",
    "from sklearn.feature_selection import SelectKBest\n",
    "from sklearn.feature_selection import f_classif"
   ]
  },
  {
   "cell_type": "code",
   "execution_count": 37,
   "id": "fc5ead68",
   "metadata": {},
   "outputs": [],
   "source": [
    "selector = SelectKBest(score_func=f_classif, k=5)"
   ]
  },
  {
   "cell_type": "code",
   "execution_count": 38,
   "id": "8040c687",
   "metadata": {},
   "outputs": [],
   "source": [
    "fitted_selector = selector.fit(features, label)"
   ]
  },
  {
   "cell_type": "code",
   "execution_count": 39,
   "id": "b41dbf64",
   "metadata": {},
   "outputs": [
    {
     "data": {
      "text/plain": [
       "array([16.11669982, 25.79219115, 69.77227149,  6.45816867,  2.20298345,\n",
       "        0.23694234,  5.77720891, 65.1201044 , 70.95243822, 68.55143941,\n",
       "       40.90207063, 54.5598338 , 40.40769615])"
      ]
     },
     "execution_count": 39,
     "metadata": {},
     "output_type": "execute_result"
    }
   ],
   "source": [
    "fitted_selector.scores_"
   ]
  },
  {
   "cell_type": "code",
   "execution_count": 40,
   "id": "17ce2465",
   "metadata": {},
   "outputs": [
    {
     "data": {
      "text/plain": [
       "('ExcersiseInducedAngina',\n",
       " 'ChestPain',\n",
       " 'StDepression',\n",
       " 'MaxHeartRateAch',\n",
       " 'NumMajorVessels')"
      ]
     },
     "execution_count": 40,
     "metadata": {},
     "output_type": "execute_result"
    }
   ],
   "source": [
    "cols[8],cols[2], cols[9], cols[7], cols[11]"
   ]
  },
  {
   "cell_type": "code",
   "execution_count": 41,
   "id": "e3de37bd",
   "metadata": {},
   "outputs": [],
   "source": [
    "selected_features = features[[cols[8],cols[2], cols[9], cols[7], cols[11]]]"
   ]
  },
  {
   "cell_type": "code",
   "execution_count": 42,
   "id": "59854c5c",
   "metadata": {},
   "outputs": [],
   "source": [
    "X_train, X_test, y_train, y_test = train_test_split(selected_features, label, test_size=0.33, random_state=123)"
   ]
  },
  {
   "cell_type": "code",
   "execution_count": 43,
   "id": "2abf8520",
   "metadata": {},
   "outputs": [],
   "source": [
    "#After feature sellection random forest classification\n",
    "fsrfc = RandomForestClassifier(n_estimators= 200, max_features='auto', max_depth= 4)"
   ]
  },
  {
   "cell_type": "code",
   "execution_count": 44,
   "id": "4977d3bf",
   "metadata": {},
   "outputs": [
    {
     "data": {
      "text/plain": [
       "RandomForestClassifier(max_depth=4, n_estimators=200)"
      ]
     },
     "execution_count": 44,
     "metadata": {},
     "output_type": "execute_result"
    }
   ],
   "source": [
    "fsrfc.fit(X_train,y_train)"
   ]
  },
  {
   "cell_type": "code",
   "execution_count": 45,
   "id": "5d8fc4ce",
   "metadata": {},
   "outputs": [
    {
     "name": "stdout",
     "output_type": "stream",
     "text": [
      "TN: 37   FP: 14\n",
      "FN: 9   TP: 40\n",
      "\n",
      "Accuracy : 0.770000\n",
      "Precision: 0.740741\n",
      "Recall   : 0.816327\n",
      "F1 score : 0.776699\n"
     ]
    }
   ],
   "source": [
    "evaluate(fsrfc, X_test, y_test)"
   ]
  },
  {
   "cell_type": "code",
   "execution_count": 46,
   "id": "36a7f859",
   "metadata": {},
   "outputs": [],
   "source": [
    "#After feature sellection XGBoost classification\n",
    "fsmodel = xgb.XGBClassifier()"
   ]
  },
  {
   "cell_type": "code",
   "execution_count": 47,
   "id": "c7ef22eb",
   "metadata": {},
   "outputs": [],
   "source": [
    "fsmodelxgb = xgb.XGBClassifier(n_estimators= 100, max_depth= 6)"
   ]
  },
  {
   "cell_type": "code",
   "execution_count": 48,
   "id": "9a05bf57",
   "metadata": {},
   "outputs": [
    {
     "name": "stdout",
     "output_type": "stream",
     "text": [
      "[10:05:43] WARNING: ..\\src\\learner.cc:1061: Starting in XGBoost 1.3.0, the default evaluation metric used with the objective 'binary:logistic' was changed from 'error' to 'logloss'. Explicitly set eval_metric if you'd like to restore the old behavior.\n"
     ]
    },
    {
     "name": "stderr",
     "output_type": "stream",
     "text": [
      "C:\\Users\\ASUS\\anaconda3\\envs\\jupyterLab\\lib\\site-packages\\xgboost\\sklearn.py:888: UserWarning: The use of label encoder in XGBClassifier is deprecated and will be removed in a future release. To remove this warning, do the following: 1) Pass option use_label_encoder=False when constructing XGBClassifier object; and 2) Encode your labels (y) as integers starting with 0, i.e. 0, 1, 2, ..., [num_class - 1].\n",
      "  warnings.warn(label_encoder_deprecation_msg, UserWarning)\n"
     ]
    },
    {
     "data": {
      "text/plain": [
       "XGBClassifier(base_score=0.5, booster='gbtree', colsample_bylevel=1,\n",
       "              colsample_bynode=1, colsample_bytree=1, gamma=0, gpu_id=-1,\n",
       "              importance_type='gain', interaction_constraints='',\n",
       "              learning_rate=0.300000012, max_delta_step=0, max_depth=6,\n",
       "              min_child_weight=1, missing=nan, monotone_constraints='()',\n",
       "              n_estimators=100, n_jobs=4, num_parallel_tree=1, random_state=0,\n",
       "              reg_alpha=0, reg_lambda=1, scale_pos_weight=1, subsample=1,\n",
       "              tree_method='exact', validate_parameters=1, verbosity=None)"
      ]
     },
     "execution_count": 48,
     "metadata": {},
     "output_type": "execute_result"
    }
   ],
   "source": [
    "fsmodelxgb.fit(X_train,y_train)"
   ]
  },
  {
   "cell_type": "code",
   "execution_count": 49,
   "id": "e70609af",
   "metadata": {},
   "outputs": [
    {
     "name": "stdout",
     "output_type": "stream",
     "text": [
      "TN: 35   FP: 16\n",
      "FN: 10   TP: 39\n",
      "\n",
      "Accuracy : 0.740000\n",
      "Precision: 0.709091\n",
      "Recall   : 0.795918\n",
      "F1 score : 0.750000\n"
     ]
    }
   ],
   "source": [
    "#evaluate the module\n",
    "evaluateBooster(fsmodelxgb, X_test, y_test)"
   ]
  },
  {
   "cell_type": "code",
   "execution_count": 50,
   "id": "8b55fac1",
   "metadata": {},
   "outputs": [],
   "source": [
    "#After feature sellection Light-boost classification process\n",
    "fsmodellg = lgb.LGBMClassifier()"
   ]
  },
  {
   "cell_type": "code",
   "execution_count": 51,
   "id": "920a6273",
   "metadata": {},
   "outputs": [
    {
     "data": {
      "text/plain": [
       "LGBMClassifier()"
      ]
     },
     "execution_count": 51,
     "metadata": {},
     "output_type": "execute_result"
    }
   ],
   "source": [
    "fsmodellg.fit(X_train,y_train)"
   ]
  },
  {
   "cell_type": "code",
   "execution_count": 52,
   "id": "f671b620",
   "metadata": {},
   "outputs": [
    {
     "name": "stdout",
     "output_type": "stream",
     "text": [
      "TN: 35   FP: 16\n",
      "FN: 11   TP: 38\n",
      "\n",
      "Accuracy : 0.730000\n",
      "Precision: 0.703704\n",
      "Recall   : 0.775510\n",
      "F1 score : 0.737864\n"
     ]
    }
   ],
   "source": [
    "evaluateBooster(fsmodellg, X_test, y_test)"
   ]
  },
  {
   "cell_type": "code",
   "execution_count": 53,
   "id": "c84ac74a",
   "metadata": {},
   "outputs": [],
   "source": [
    "#Save & Load the best module\n",
    "import pickle"
   ]
  },
  {
   "cell_type": "code",
   "execution_count": 54,
   "id": "5fd6aba7",
   "metadata": {},
   "outputs": [],
   "source": [
    "#save the module\n",
    "pickle.dump(rfc2, open('D:\\ICBT\\Assignments\\Computational Intelligence\\Dataset\\BestModule', 'wb'))"
   ]
  },
  {
   "cell_type": "code",
   "execution_count": 55,
   "id": "7eddf416",
   "metadata": {},
   "outputs": [],
   "source": [
    "#Load the module\n",
    "model = pickle.load(open('D:\\ICBT\\Assignments\\Computational Intelligence\\Dataset\\BestModule', 'rb'))"
   ]
  },
  {
   "cell_type": "code",
   "execution_count": 56,
   "id": "2b286a22",
   "metadata": {},
   "outputs": [],
   "source": [
    "X_train, X_test, y_train, y_test = train_test_split(features, label, test_size=0.2, random_state=42)"
   ]
  },
  {
   "cell_type": "code",
   "execution_count": 57,
   "id": "2f639c5c",
   "metadata": {},
   "outputs": [
    {
     "name": "stdout",
     "output_type": "stream",
     "text": [
      "TN: 24   FP: 5\n",
      "FN: 3   TP: 29\n",
      "\n",
      "Accuracy : 0.868852\n",
      "Precision: 0.852941\n",
      "Recall   : 0.906250\n",
      "F1 score : 0.878788\n"
     ]
    }
   ],
   "source": [
    "evaluate(model, X_test, y_test)"
   ]
  },
  {
   "cell_type": "code",
   "execution_count": 75,
   "id": "9529d400",
   "metadata": {},
   "outputs": [
    {
     "data": {
      "text/html": [
       "<div>\n",
       "<style scoped>\n",
       "    .dataframe tbody tr th:only-of-type {\n",
       "        vertical-align: middle;\n",
       "    }\n",
       "\n",
       "    .dataframe tbody tr th {\n",
       "        vertical-align: top;\n",
       "    }\n",
       "\n",
       "    .dataframe thead th {\n",
       "        text-align: right;\n",
       "    }\n",
       "</style>\n",
       "<table border=\"1\" class=\"dataframe\">\n",
       "  <thead>\n",
       "    <tr style=\"text-align: right;\">\n",
       "      <th></th>\n",
       "      <th>Age</th>\n",
       "      <th>Sex</th>\n",
       "      <th>ChestPain</th>\n",
       "      <th>RestingBloodPressure</th>\n",
       "      <th>Cholesterol</th>\n",
       "      <th>FastingBloodSugar</th>\n",
       "      <th>RestEcg</th>\n",
       "      <th>MaxHeartRateAch</th>\n",
       "      <th>ExcersiseInducedAngina</th>\n",
       "      <th>StDepression</th>\n",
       "      <th>StSlope</th>\n",
       "      <th>NumMajorVessels</th>\n",
       "      <th>Thalassemia</th>\n",
       "      <th>Target</th>\n",
       "    </tr>\n",
       "  </thead>\n",
       "  <tbody>\n",
       "    <tr>\n",
       "      <th>0</th>\n",
       "      <td>63</td>\n",
       "      <td>1</td>\n",
       "      <td>3</td>\n",
       "      <td>145</td>\n",
       "      <td>233</td>\n",
       "      <td>1</td>\n",
       "      <td>0</td>\n",
       "      <td>150</td>\n",
       "      <td>0</td>\n",
       "      <td>2.3</td>\n",
       "      <td>0</td>\n",
       "      <td>0</td>\n",
       "      <td>1</td>\n",
       "      <td>1</td>\n",
       "    </tr>\n",
       "    <tr>\n",
       "      <th>1</th>\n",
       "      <td>37</td>\n",
       "      <td>1</td>\n",
       "      <td>2</td>\n",
       "      <td>130</td>\n",
       "      <td>250</td>\n",
       "      <td>0</td>\n",
       "      <td>1</td>\n",
       "      <td>187</td>\n",
       "      <td>0</td>\n",
       "      <td>3.5</td>\n",
       "      <td>0</td>\n",
       "      <td>0</td>\n",
       "      <td>2</td>\n",
       "      <td>1</td>\n",
       "    </tr>\n",
       "    <tr>\n",
       "      <th>2</th>\n",
       "      <td>41</td>\n",
       "      <td>0</td>\n",
       "      <td>1</td>\n",
       "      <td>130</td>\n",
       "      <td>204</td>\n",
       "      <td>0</td>\n",
       "      <td>0</td>\n",
       "      <td>172</td>\n",
       "      <td>0</td>\n",
       "      <td>1.4</td>\n",
       "      <td>2</td>\n",
       "      <td>0</td>\n",
       "      <td>2</td>\n",
       "      <td>1</td>\n",
       "    </tr>\n",
       "    <tr>\n",
       "      <th>3</th>\n",
       "      <td>56</td>\n",
       "      <td>1</td>\n",
       "      <td>1</td>\n",
       "      <td>120</td>\n",
       "      <td>236</td>\n",
       "      <td>0</td>\n",
       "      <td>1</td>\n",
       "      <td>178</td>\n",
       "      <td>0</td>\n",
       "      <td>0.8</td>\n",
       "      <td>2</td>\n",
       "      <td>0</td>\n",
       "      <td>2</td>\n",
       "      <td>1</td>\n",
       "    </tr>\n",
       "    <tr>\n",
       "      <th>4</th>\n",
       "      <td>57</td>\n",
       "      <td>0</td>\n",
       "      <td>0</td>\n",
       "      <td>120</td>\n",
       "      <td>354</td>\n",
       "      <td>0</td>\n",
       "      <td>1</td>\n",
       "      <td>163</td>\n",
       "      <td>1</td>\n",
       "      <td>0.6</td>\n",
       "      <td>2</td>\n",
       "      <td>0</td>\n",
       "      <td>2</td>\n",
       "      <td>1</td>\n",
       "    </tr>\n",
       "  </tbody>\n",
       "</table>\n",
       "</div>"
      ],
      "text/plain": [
       "   Age  Sex  ChestPain  RestingBloodPressure  Cholesterol  FastingBloodSugar  \\\n",
       "0   63    1          3                   145          233                  1   \n",
       "1   37    1          2                   130          250                  0   \n",
       "2   41    0          1                   130          204                  0   \n",
       "3   56    1          1                   120          236                  0   \n",
       "4   57    0          0                   120          354                  0   \n",
       "\n",
       "   RestEcg  MaxHeartRateAch  ExcersiseInducedAngina  StDepression  StSlope  \\\n",
       "0        0              150                       0           2.3        0   \n",
       "1        1              187                       0           3.5        0   \n",
       "2        0              172                       0           1.4        2   \n",
       "3        1              178                       0           0.8        2   \n",
       "4        1              163                       1           0.6        2   \n",
       "\n",
       "   NumMajorVessels  Thalassemia  Target  \n",
       "0                0            1       1  \n",
       "1                0            2       1  \n",
       "2                0            2       1  \n",
       "3                0            2       1  \n",
       "4                0            2       1  "
      ]
     },
     "execution_count": 75,
     "metadata": {},
     "output_type": "execute_result"
    }
   ],
   "source": [
    "df.head()"
   ]
  },
  {
   "cell_type": "code",
   "execution_count": 76,
   "id": "86699ed7",
   "metadata": {},
   "outputs": [
    {
     "name": "stdout",
     "output_type": "stream",
     "text": [
      "Enter the value of Age63\n",
      "Enter the value of Sex1\n",
      "Enter the value of ChestPain3\n",
      "Enter the value of RestingBloodPressure145\n",
      "Enter the value of Cholesterol250\n",
      "Enter the value of FastingBloodSugar1\n",
      "Enter the value of RestEcg0\n",
      "Enter the value of MaxHeartRateAch187\n",
      "Enter the value of ExcersiseInducedAngina1\n",
      "Enter the value of StDepression2.3\n",
      "Enter the value of StSlope2\n",
      "Enter the value of NumMajorVessels0\n",
      "Enter the value of Thalassemia2\n"
     ]
    }
   ],
   "source": [
    "#Prediction process\n",
    "predict =[]\n",
    "for c in ['Age' , 'Sex' , 'ChestPain' , 'RestingBloodPressure' , 'Cholesterol' , 'FastingBloodSugar' , 'RestEcg' , 'MaxHeartRateAch' , 'ExcersiseInducedAngina' , 'StDepression' , 'StSlope' , 'NumMajorVessels' , 'Thalassemia']:\n",
    "  predict.append(input(\"Enter the value of \" + c))"
   ]
  },
  {
   "cell_type": "code",
   "execution_count": 78,
   "id": "61a87674",
   "metadata": {},
   "outputs": [
    {
     "data": {
      "text/plain": [
       "['63', '1', '3', '145', '250', '1', '0', '187', '1', '2.3', '2', '0', '2']"
      ]
     },
     "execution_count": 78,
     "metadata": {},
     "output_type": "execute_result"
    }
   ],
   "source": [
    "predict"
   ]
  },
  {
   "cell_type": "code",
   "execution_count": 79,
   "id": "54969cb7",
   "metadata": {},
   "outputs": [],
   "source": [
    "predict2 =[]"
   ]
  },
  {
   "cell_type": "code",
   "execution_count": 80,
   "id": "2da6b294",
   "metadata": {},
   "outputs": [],
   "source": [
    "predict2.append(predict)"
   ]
  },
  {
   "cell_type": "code",
   "execution_count": 81,
   "id": "f8df495b",
   "metadata": {},
   "outputs": [
    {
     "data": {
      "text/plain": [
       "array([1], dtype=int64)"
      ]
     },
     "execution_count": 81,
     "metadata": {},
     "output_type": "execute_result"
    }
   ],
   "source": [
    "model.predict(predict2)"
   ]
  },
  {
   "cell_type": "code",
   "execution_count": 5,
   "id": "d71e833a",
   "metadata": {
    "collapsed": true
   },
   "outputs": [
    {
     "name": "stdout",
     "output_type": "stream",
     "text": [
      "Collecting gradio\n",
      "  Using cached gradio-2.0.9-py3-none-any.whl (1.6 MB)\n",
      "Collecting analytics-python\n",
      "  Using cached analytics_python-1.3.1-py2.py3-none-any.whl (16 kB)\n",
      "Requirement already satisfied: scipy in c:\\users\\asus\\anaconda3\\envs\\jupyterlab\\lib\\site-packages (from gradio) (1.6.2)\n",
      "Collecting markdown2\n",
      "  Using cached markdown2-2.4.0-py2.py3-none-any.whl (34 kB)\n",
      "Requirement already satisfied: requests in c:\\users\\asus\\anaconda3\\envs\\jupyterlab\\lib\\site-packages (from gradio) (2.25.1)\n",
      "Collecting paramiko\n",
      "  Using cached paramiko-2.7.2-py2.py3-none-any.whl (206 kB)\n",
      "Collecting pycryptodome\n",
      "  Using cached pycryptodome-3.10.1-cp35-abi3-win_amd64.whl (1.6 MB)\n",
      "Collecting Flask-Login\n",
      "  Using cached Flask_Login-0.5.0-py2.py3-none-any.whl (16 kB)\n",
      "Requirement already satisfied: matplotlib in c:\\users\\asus\\anaconda3\\envs\\jupyterlab\\lib\\site-packages (from gradio) (3.3.4)\n",
      "Collecting Flask>=1.1.1\n",
      "  Using cached Flask-2.0.1-py3-none-any.whl (94 kB)\n",
      "Collecting flask-cachebuster\n",
      "  Using cached Flask_CacheBuster-1.0.0-py3-none-any.whl\n",
      "Requirement already satisfied: pillow in c:\\users\\asus\\anaconda3\\envs\\jupyterlab\\lib\\site-packages (from gradio) (8.2.0)\n",
      "Requirement already satisfied: pandas in c:\\users\\asus\\anaconda3\\envs\\jupyterlab\\lib\\site-packages (from gradio) (1.2.3)\n",
      "Collecting Flask-Cors>=3.0.8\n",
      "  Using cached Flask_Cors-3.0.10-py2.py3-none-any.whl (14 kB)\n",
      "Collecting ffmpy\n",
      "  Using cached ffmpy-0.3.0-py3-none-any.whl\n",
      "Requirement already satisfied: numpy in c:\\users\\asus\\anaconda3\\envs\\jupyterlab\\lib\\site-packages (from gradio) (1.19.2)\n",
      "Collecting Jinja2>=3.0\n",
      "  Using cached Jinja2-3.0.1-py3-none-any.whl (133 kB)\n",
      "Requirement already satisfied: click>=7.1.2 in c:\\users\\asus\\anaconda3\\envs\\jupyterlab\\lib\\site-packages (from Flask>=1.1.1->gradio) (7.1.2)\n",
      "Collecting itsdangerous>=2.0\n",
      "  Using cached itsdangerous-2.0.1-py3-none-any.whl (18 kB)\n",
      "Collecting Werkzeug>=2.0\n",
      "  Using cached Werkzeug-2.0.1-py3-none-any.whl (288 kB)\n",
      "Requirement already satisfied: Six in c:\\users\\asus\\anaconda3\\envs\\jupyterlab\\lib\\site-packages (from Flask-Cors>=3.0.8->gradio) (1.15.0)\n",
      "Requirement already satisfied: MarkupSafe>=2.0 in c:\\users\\asus\\anaconda3\\envs\\jupyterlab\\lib\\site-packages (from Jinja2>=3.0->Flask>=1.1.1->gradio) (2.0.1)\n",
      "Collecting monotonic>=1.5\n",
      "  Using cached monotonic-1.6-py2.py3-none-any.whl (8.2 kB)\n",
      "Collecting backoff==1.10.0\n",
      "  Using cached backoff-1.10.0-py2.py3-none-any.whl (31 kB)\n",
      "Requirement already satisfied: python-dateutil>2.1 in c:\\users\\asus\\anaconda3\\envs\\jupyterlab\\lib\\site-packages (from analytics-python->gradio) (2.8.1)\n",
      "Requirement already satisfied: chardet<5,>=3.0.2 in c:\\users\\asus\\anaconda3\\envs\\jupyterlab\\lib\\site-packages (from requests->gradio) (4.0.0)\n",
      "Requirement already satisfied: idna<3,>=2.5 in c:\\users\\asus\\anaconda3\\envs\\jupyterlab\\lib\\site-packages (from requests->gradio) (2.10)\n",
      "Requirement already satisfied: certifi>=2017.4.17 in c:\\users\\asus\\anaconda3\\envs\\jupyterlab\\lib\\site-packages (from requests->gradio) (2021.5.30)\n",
      "Requirement already satisfied: urllib3<1.27,>=1.21.1 in c:\\users\\asus\\anaconda3\\envs\\jupyterlab\\lib\\site-packages (from requests->gradio) (1.26.4)\n",
      "Requirement already satisfied: cycler>=0.10 in c:\\users\\asus\\anaconda3\\envs\\jupyterlab\\lib\\site-packages (from matplotlib->gradio) (0.10.0)\n",
      "Requirement already satisfied: pyparsing!=2.0.4,!=2.1.2,!=2.1.6,>=2.0.3 in c:\\users\\asus\\anaconda3\\envs\\jupyterlab\\lib\\site-packages (from matplotlib->gradio) (2.4.7)\n",
      "Requirement already satisfied: kiwisolver>=1.0.1 in c:\\users\\asus\\anaconda3\\envs\\jupyterlab\\lib\\site-packages (from matplotlib->gradio) (1.3.1)\n",
      "Requirement already satisfied: pytz>=2017.3 in c:\\users\\asus\\anaconda3\\envs\\jupyterlab\\lib\\site-packages (from pandas->gradio) (2021.1)\n",
      "Collecting bcrypt>=3.1.3\n",
      "  Using cached bcrypt-3.2.0-cp36-abi3-win_amd64.whl (28 kB)\n",
      "Collecting pynacl>=1.0.1\n",
      "  Using cached PyNaCl-1.4.0-cp38-cp38-win_amd64.whl (206 kB)\n",
      "Requirement already satisfied: cryptography>=2.5 in c:\\users\\asus\\anaconda3\\envs\\jupyterlab\\lib\\site-packages (from paramiko->gradio) (3.4.7)\n",
      "Requirement already satisfied: cffi>=1.1 in c:\\users\\asus\\anaconda3\\envs\\jupyterlab\\lib\\site-packages (from bcrypt>=3.1.3->paramiko->gradio) (1.14.5)\n",
      "Requirement already satisfied: pycparser in c:\\users\\asus\\anaconda3\\envs\\jupyterlab\\lib\\site-packages (from cffi>=1.1->bcrypt>=3.1.3->paramiko->gradio) (2.20)\n",
      "Installing collected packages: Werkzeug, Jinja2, itsdangerous, pynacl, monotonic, Flask, bcrypt, backoff, pycryptodome, paramiko, markdown2, Flask-Login, Flask-Cors, flask-cachebuster, ffmpy, analytics-python, gradio\n",
      "  Attempting uninstall: Werkzeug\n",
      "    Found existing installation: Werkzeug 1.0.1\n",
      "    Uninstalling Werkzeug-1.0.1:\n",
      "      Successfully uninstalled Werkzeug-1.0.1\n",
      "  Attempting uninstall: Jinja2\n",
      "    Found existing installation: Jinja2 2.11.3\n",
      "    Uninstalling Jinja2-2.11.3:\n",
      "      Successfully uninstalled Jinja2-2.11.3\n",
      "Successfully installed Flask-2.0.1 Flask-Cors-3.0.10 Flask-Login-0.5.0 Jinja2-3.0.1 Werkzeug-2.0.1 analytics-python-1.3.1 backoff-1.10.0 bcrypt-3.2.0 ffmpy-0.3.0 flask-cachebuster-1.0.0 gradio-2.0.9 itsdangerous-2.0.1 markdown2-2.4.0 monotonic-1.6 paramiko-2.7.2 pycryptodome-3.10.1 pynacl-1.4.0\n"
     ]
    }
   ],
   "source": [
    "#UI Interface intallation\n",
    "#!pip install gradio"
   ]
  },
  {
   "cell_type": "code",
   "execution_count": 58,
   "id": "d95df860",
   "metadata": {},
   "outputs": [],
   "source": [
    "import gradio as gr"
   ]
  },
  {
   "cell_type": "code",
   "execution_count": 99,
   "id": "ab06fdd7",
   "metadata": {},
   "outputs": [
    {
     "name": "stdout",
     "output_type": "stream",
     "text": [
      "Running locally at: http://127.0.0.1:7875/\n",
      "To create a public link, set `share=True` in `launch()`.\n",
      "Interface loading below...\n"
     ]
    },
    {
     "data": {
      "text/html": [
       "\n",
       "        <iframe\n",
       "            width=\"900\"\n",
       "            height=\"500\"\n",
       "            src=\"http://127.0.0.1:7875/\"\n",
       "            frameborder=\"0\"\n",
       "            allowfullscreen\n",
       "        ></iframe>\n",
       "        "
      ],
      "text/plain": [
       "<IPython.lib.display.IFrame at 0x191f2039280>"
      ]
     },
     "metadata": {},
     "output_type": "display_data"
    },
    {
     "data": {
      "text/plain": [
       "(<Flask 'gradio.networking'>, 'http://127.0.0.1:7875/', None)"
      ]
     },
     "execution_count": 99,
     "metadata": {},
     "output_type": "execute_result"
    }
   ],
   "source": [
    "def predict_survival(Age, Sex, ChestPain, RestingBloodPressure, Cholesterol, FastingBloodSugar, RestEcg, MaxHeartRateAch, ExcersiseInducedAngina, StDepression, StSlope, NumMajorVessels, Thalassemia):\n",
    "    df = pd.DataFrame({'Sex': [Sex], 'Age': [Age], 'ChestPain': [ChestPain], 'RestingBloodPressure': [RestingBloodPressure], 'Cholesterol': [Cholesterol], 'FastingBloodSugar': [FastingBloodSugar], 'RestEcg': [RestEcg], \n",
    "                        'MaxHeartRateAch': [MaxHeartRateAch], 'ExcersiseInducedAngina': [ExcersiseInducedAngina], 'StDepression': [StDepression], 'StSlope': [StSlope], 'NumMajorVessels': [NumMajorVessels],'Thalassemia': [Thalassemia]})\n",
    "    \n",
    "    predi = model.predict_proba(df)[0]\n",
    "    return {'Perishes': predi[1], 'Survives': predi[0]}\n",
    "    \n",
    "Sex                    = gr.inputs.Radio([0, 1 ], label=\"Sex - Male = 1 | Female = 0\")\n",
    "Age                    = gr.inputs.Slider(minimum=0, maximum=100, default=20, label=\"Age\")\n",
    "ChestPain              = gr.inputs.Slider(minimum=0, maximum=10,  default=0, label=\"ChestPain\")\n",
    "RestingBloodPressure   = gr.inputs.Slider(minimum=0, maximum=200, default=100, label=\"Resting Blood Pressure\")\n",
    "Cholesterol            = gr.inputs.Slider(minimum=0, maximum=500, default=120, label=\"Cholesterol\")\n",
    "FastingBloodSugar      = gr.inputs.Slider(minimum=0, maximum=10,  default=0, label=\"Fasting Blood Sugar\")\n",
    "RestEcg                = gr.inputs.Slider(minimum=0, maximum=10,  default=0, label=\"Rest Ecg\") \n",
    "MaxHeartRateAch        = gr.inputs.Slider(minimum=0, maximum=200, default=100, label=\"Max Heart RateAch\")\n",
    "ExcersiseInducedAngina = gr.inputs.Slider(minimum=0, maximum=10, default=0, label=\"Excersise Induced Angina\")\n",
    "StDepression           = gr.inputs.Slider(minimum=0, maximum=2.0, default=0, label=\"St Depression\")\n",
    "StSlope                = gr.inputs.Slider(minimum=0, maximum=10, default=0, label=\"St Slope\")\n",
    "NumMajorVessels        = gr.inputs.Slider(minimum=0, maximum=10, default=0, label=\"Num Major Vessels\")\n",
    "Thalassemia            = gr.inputs.Slider(minimum=0, maximum=10, default=0, label=\"Thalassemia\")\n",
    "\n",
    "gr.Interface(predict_survival, [Age, Sex, ChestPain, RestingBloodPressure, Cholesterol, FastingBloodSugar, RestEcg, MaxHeartRateAch, ExcersiseInducedAngina, StDepression, StSlope, NumMajorVessels, Thalassemia],\n",
    "             \"label\", live=True).launch()"
   ]
  }
 ],
 "metadata": {
  "kernelspec": {
   "display_name": "Python 3",
   "language": "python",
   "name": "python3"
  },
  "language_info": {
   "codemirror_mode": {
    "name": "ipython",
    "version": 3
   },
   "file_extension": ".py",
   "mimetype": "text/x-python",
   "name": "python",
   "nbconvert_exporter": "python",
   "pygments_lexer": "ipython3",
   "version": "3.8.8"
  }
 },
 "nbformat": 4,
 "nbformat_minor": 5
}
