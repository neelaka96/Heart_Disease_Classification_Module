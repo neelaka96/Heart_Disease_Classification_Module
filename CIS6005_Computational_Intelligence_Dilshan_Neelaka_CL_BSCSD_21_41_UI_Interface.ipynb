{
 "cells": [
  {
   "cell_type": "code",
   "execution_count": null,
   "id": "d9c3bc30",
   "metadata": {},
   "outputs": [
    {
     "name": "stdout",
     "output_type": "stream",
     "text": [
      "Running locally at: http://127.0.0.1:7872/\n",
      "To create a public link, set `share=True` in `launch()`.\n",
      "Interface loading below...\n"
     ]
    },
    {
     "data": {
      "text/html": [
       "\n",
       "        <iframe\n",
       "            width=\"900\"\n",
       "            height=\"500\"\n",
       "            src=\"http://127.0.0.1:7872/\"\n",
       "            frameborder=\"0\"\n",
       "            allowfullscreen\n",
       "        ></iframe>\n",
       "        "
      ],
      "text/plain": [
       "<IPython.lib.display.IFrame at 0x1f74aaaa670>"
      ]
     },
     "metadata": {},
     "output_type": "display_data"
    }
   ],
   "source": [
    "import tkinter as tk\n",
    "import pickle\n",
    "import gradio as gr\n",
    "import pandas as pd \n",
    "import numpy as np\n",
    "import os\n",
    "\n",
    "root = tk.Tk()\n",
    "\n",
    "canvas1 = tk.Canvas(root, width = 300, height = 300)\n",
    "canvas1.pack()\n",
    "\n",
    "def load_model():\n",
    "    current_dir = os.getcwd()\n",
    "    global_path = current_dir + \"\\BestModel\\BestModule\"\n",
    "    model = pickle.load(open(global_path, 'rb'))\n",
    "    return model\n",
    "\n",
    "def predict_survival(Age, Sex, ChestPain, RestingBloodPressure, Cholesterol, FastingBloodSugar, RestEcg, MaxHeartRateAch, ExcersiseInducedAngina, StDepression, StSlope, NumMajorVessels, Thalassemia):\n",
    "    df = pd.DataFrame({'Sex': [Sex], 'Age': [Age], 'ChestPain': [ChestPain], 'RestingBloodPressure': [RestingBloodPressure], 'Cholesterol': [Cholesterol], 'FastingBloodSugar': [FastingBloodSugar], 'RestEcg': [RestEcg], \n",
    "                        'MaxHeartRateAch': [MaxHeartRateAch], 'ExcersiseInducedAngina': [ExcersiseInducedAngina], 'StDepression': [StDepression], 'StSlope': [StSlope], 'NumMajorVessels': [NumMajorVessels],'Thalassemia': [Thalassemia]})\n",
    "    \n",
    "    model = load_model()\n",
    "    predi = model.predict_proba(df)[0]\n",
    "    return {'Perishes': predi[1], 'Survives': predi[0]}\n",
    "    \n",
    "Sex                    = gr.inputs.Radio([0, 1 ], label=\"Sex - Male = 1 | Female = 0\")\n",
    "Age                    = gr.inputs.Slider(minimum=0, maximum=100, default=20, label=\"Age\")\n",
    "ChestPain              = gr.inputs.Slider(minimum=0, maximum=10,  default=0, label=\"ChestPain\")\n",
    "RestingBloodPressure   = gr.inputs.Slider(minimum=0, maximum=200, default=100, label=\"Resting Blood Pressure\")\n",
    "Cholesterol            = gr.inputs.Slider(minimum=0, maximum=500, default=120, label=\"Cholesterol\")\n",
    "FastingBloodSugar      = gr.inputs.Slider(minimum=0, maximum=10,  default=0, label=\"Fasting Blood Sugar\")\n",
    "RestEcg                = gr.inputs.Slider(minimum=0, maximum=10,  default=0, label=\"Rest Ecg\") \n",
    "MaxHeartRateAch        = gr.inputs.Slider(minimum=0, maximum=200, default=100, label=\"Max Heart RateAch\")\n",
    "ExcersiseInducedAngina = gr.inputs.Slider(minimum=0, maximum=10, default=0, label=\"Excersise Induced Angina\")\n",
    "StDepression           = gr.inputs.Slider(minimum=0, maximum=2.0, default=0, label=\"St Depression\")\n",
    "StSlope                = gr.inputs.Slider(minimum=0, maximum=10, default=0, label=\"St Slope\")\n",
    "NumMajorVessels        = gr.inputs.Slider(minimum=0, maximum=10, default=0, label=\"Num Major Vessels\")\n",
    "Thalassemia            = gr.inputs.Slider(minimum=0, maximum=10, default=0, label=\"Thalassemia\")\n",
    "\n",
    "def runGR():     \n",
    "    gr.Interface(predict_survival, [Age, Sex, ChestPain, RestingBloodPressure, Cholesterol, FastingBloodSugar, RestEcg, MaxHeartRateAch, ExcersiseInducedAngina, StDepression, StSlope, NumMajorVessels, Thalassemia],\n",
    "             \"label\", live=True).launch(inbrowser = True)\n",
    "\n",
    "button = tk.Button(text='Click Me', command=runGR, bg='brown', fg='white')\n",
    "\n",
    "canvas1.create_window(150,150,window=button)\n",
    "\n",
    "root.mainloop()"
   ]
  }
 ],
 "metadata": {
  "kernelspec": {
   "display_name": "Python 3",
   "language": "python",
   "name": "python3"
  },
  "language_info": {
   "codemirror_mode": {
    "name": "ipython",
    "version": 3
   },
   "file_extension": ".py",
   "mimetype": "text/x-python",
   "name": "python",
   "nbconvert_exporter": "python",
   "pygments_lexer": "ipython3",
   "version": "3.8.8"
  }
 },
 "nbformat": 4,
 "nbformat_minor": 5
}
